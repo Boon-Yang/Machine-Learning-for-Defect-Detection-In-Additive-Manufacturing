{
  "nbformat": 4,
  "nbformat_minor": 0,
  "metadata": {
    "colab": {
      "name": "One Class Learning(I).ipynb",
      "provenance": [],
      "collapsed_sections": [],
      "authorship_tag": "ABX9TyNGZbDX9qzLcWvrBW23fG3h",
      "include_colab_link": true
    },
    "kernelspec": {
      "name": "python3",
      "display_name": "Python 3"
    }
  },
  "cells": [
    {
      "cell_type": "markdown",
      "metadata": {
        "id": "view-in-github",
        "colab_type": "text"
      },
      "source": [
        "<a href=\"https://colab.research.google.com/github/Boon-Yang/Machine-Learning-for-Defect-Detection-In-Additive-Manufacturing/blob/master/One_Class_Learning(I).ipynb\" target=\"_parent\"><img src=\"https://colab.research.google.com/assets/colab-badge.svg\" alt=\"Open In Colab\"/></a>"
      ]
    },
    {
      "cell_type": "code",
      "metadata": {
        "id": "CTHRSPQqHVMc",
        "colab_type": "code",
        "colab": {
          "base_uri": "https://localhost:8080/",
          "height": 35
        },
        "outputId": "aa929580-9078-4f91-99fc-e33e16283f3a"
      },
      "source": [
        "from google.colab import drive\n",
        "drive.mount('/content/drive')\n",
        "\n",
        "import scipy.io as io\n",
        "import os \n",
        "import matplotlib.pyplot as plt\n",
        "import pandas as pd\n",
        "import pickle\n",
        "import numpy as np\n",
        "import h5py\n",
        "\n",
        "# Progress bar\n",
        "from tqdm import tqdm\n",
        "\n",
        "# Features Extraction\n",
        "from skimage.draw import ellipse\n",
        "from skimage.measure import find_contours, approximate_polygon, \\\n",
        "    subdivide_polygon\n",
        "from skimage.measure import regionprops, label\n",
        "from statistics import mean\n",
        "\n",
        "os.chdir('/content/drive/My Drive/FYP MAT Data')"
      ],
      "execution_count": 8,
      "outputs": [
        {
          "output_type": "stream",
          "text": [
            "Mounted at /content/drive\n"
          ],
          "name": "stdout"
        }
      ]
    },
    {
      "cell_type": "markdown",
      "metadata": {
        "id": "DwqHQcXbHezE",
        "colab_type": "text"
      },
      "source": [
        "# Import Features"
      ]
    },
    {
      "cell_type": "code",
      "metadata": {
        "id": "4amW3FdUHeQC",
        "colab_type": "code",
        "colab": {
          "base_uri": "https://localhost:8080/",
          "height": 194
        },
        "outputId": "c100ed79-cd63-4b30-d9bd-ee080085302f"
      },
      "source": [
        "features_df = pd.read_csv('/content/drive/My Drive/FYP MAT Data/Build1_Features.csv')\n",
        "features_df.head()"
      ],
      "execution_count": 10,
      "outputs": [
        {
          "output_type": "execute_result",
          "data": {
            "text/html": [
              "<div>\n",
              "<style scoped>\n",
              "    .dataframe tbody tr th:only-of-type {\n",
              "        vertical-align: middle;\n",
              "    }\n",
              "\n",
              "    .dataframe tbody tr th {\n",
              "        vertical-align: top;\n",
              "    }\n",
              "\n",
              "    .dataframe thead th {\n",
              "        text-align: right;\n",
              "    }\n",
              "</style>\n",
              "<table border=\"1\" class=\"dataframe\">\n",
              "  <thead>\n",
              "    <tr style=\"text-align: right;\">\n",
              "      <th></th>\n",
              "      <th>blockNo</th>\n",
              "      <th>ImageId</th>\n",
              "      <th>spatterNum</th>\n",
              "      <th>spatterArea</th>\n",
              "      <th>spatterEccenticity</th>\n",
              "      <th>blobArea</th>\n",
              "      <th>blobEccentricity</th>\n",
              "    </tr>\n",
              "  </thead>\n",
              "  <tbody>\n",
              "    <tr>\n",
              "      <th>0</th>\n",
              "      <td>1</td>\n",
              "      <td>0</td>\n",
              "      <td>0</td>\n",
              "      <td>0</td>\n",
              "      <td>0.0</td>\n",
              "      <td>0</td>\n",
              "      <td>0.0</td>\n",
              "    </tr>\n",
              "    <tr>\n",
              "      <th>1</th>\n",
              "      <td>1</td>\n",
              "      <td>1</td>\n",
              "      <td>0</td>\n",
              "      <td>0</td>\n",
              "      <td>0.0</td>\n",
              "      <td>0</td>\n",
              "      <td>0.0</td>\n",
              "    </tr>\n",
              "    <tr>\n",
              "      <th>2</th>\n",
              "      <td>1</td>\n",
              "      <td>2</td>\n",
              "      <td>0</td>\n",
              "      <td>0</td>\n",
              "      <td>0.0</td>\n",
              "      <td>0</td>\n",
              "      <td>0.0</td>\n",
              "    </tr>\n",
              "    <tr>\n",
              "      <th>3</th>\n",
              "      <td>1</td>\n",
              "      <td>3</td>\n",
              "      <td>0</td>\n",
              "      <td>0</td>\n",
              "      <td>0.0</td>\n",
              "      <td>0</td>\n",
              "      <td>0.0</td>\n",
              "    </tr>\n",
              "    <tr>\n",
              "      <th>4</th>\n",
              "      <td>1</td>\n",
              "      <td>4</td>\n",
              "      <td>0</td>\n",
              "      <td>0</td>\n",
              "      <td>0.0</td>\n",
              "      <td>0</td>\n",
              "      <td>0.0</td>\n",
              "    </tr>\n",
              "  </tbody>\n",
              "</table>\n",
              "</div>"
            ],
            "text/plain": [
              "   blockNo  ImageId  spatterNum  ...  spatterEccenticity  blobArea  blobEccentricity\n",
              "0        1        0           0  ...                 0.0         0               0.0\n",
              "1        1        1           0  ...                 0.0         0               0.0\n",
              "2        1        2           0  ...                 0.0         0               0.0\n",
              "3        1        3           0  ...                 0.0         0               0.0\n",
              "4        1        4           0  ...                 0.0         0               0.0\n",
              "\n",
              "[5 rows x 7 columns]"
            ]
          },
          "metadata": {
            "tags": []
          },
          "execution_count": 10
        }
      ]
    },
    {
      "cell_type": "code",
      "metadata": {
        "id": "W_fyIdpwIUGF",
        "colab_type": "code",
        "colab": {
          "base_uri": "https://localhost:8080/",
          "height": 625
        },
        "outputId": "609213f4-3f6b-4ef1-8789-7b8097970e1d"
      },
      "source": [
        "feature = 'blobArea'\n",
        "\n",
        "fig, axs =  plt.subplots(3, 3, figsize=(15, 10) , sharex='col', sharey='row')\n",
        "axs = axs.flatten()\n",
        "\n",
        "for ix, ax in enumerate(axs):\n",
        "  ax.hist(features_df.query(\"blockNo == {}\".format(ix+1))[feature], bins=np.linspace(0, 1200, 50))\n",
        "  ax.set_xlim(0, 1200)\n",
        "  ax.set_title(str(ix+1) + 'th Block')\n",
        "  ax.grid()\n",
        "print(feature)"
      ],
      "execution_count": 11,
      "outputs": [
        {
          "output_type": "stream",
          "text": [
            "blobArea\n"
          ],
          "name": "stdout"
        },
        {
          "output_type": "display_data",
          "data": {
            "image/png": "[encoded data removed]",
            "text/plain": [
              "<Figure size 1080x720 with 9 Axes>"
            ]
          },
          "metadata": {
            "tags": [],
            "needs_background": "light"
          }
        }
      ]
    },
    {
      "cell_type": "code",
      "metadata": {
        "id": "8q5pEaz5O2g-",
        "colab_type": "code",
        "colab": {
          "base_uri": "https://localhost:8080/",
          "height": 625
        },
        "outputId": "ad71d276-999d-46ec-8d29-5274d6a895d4"
      },
      "source": [
        "feature = 'spatterArea'\n",
        "\n",
        "fig, axs =  plt.subplots(3, 3, figsize=(15, 10) , sharex='col', sharey='row')\n",
        "axs = axs.flatten()\n",
        "\n",
        "for ix, ax in enumerate(axs):\n",
        "  ax.hist(features_df.query(\"blockNo == {}\".format(ix+1))[feature], bins=np.linspace(0, 200, 50))\n",
        "  ax.set_title(str(ix+1) + 'th Block')\n",
        "  ax.grid()\n",
        "print(feature)"
      ],
      "execution_count": 12,
      "outputs": [
        {
          "output_type": "stream",
          "text": [
            "spatterArea\n"
          ],
          "name": "stdout"
        },
        {
          "output_type": "display_data",
          "data": {
            "image/png": "[encoded data removed]",
            "text/plain": [
              "<Figure size 1080x720 with 9 Axes>"
            ]
          },
          "metadata": {
            "tags": [],
            "needs_background": "light"
          }
        }
      ]
    },
    {
      "cell_type": "markdown",
      "metadata": {
        "id": "bgpyYcQQaRhC",
        "colab_type": "text"
      },
      "source": [
        "4th and 6th blocks have more consistent blob sizes and lots of zero spatter properties."
      ]
    },
    {
      "cell_type": "code",
      "metadata": {
        "id": "1VE004pJQhpD",
        "colab_type": "code",
        "colab": {}
      },
      "source": [
        ""
      ],
      "execution_count": null,
      "outputs": []
    }
  ]
}